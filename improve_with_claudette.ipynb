{
 "cells": [
  {
   "cell_type": "code",
   "execution_count": null,
   "id": "5b84f599-2832-4535-8bbf-d3641c5e2eb1",
   "metadata": {},
   "outputs": [],
   "source": [
    "import os\n",
    "from claudette import *"
   ]
  },
  {
   "cell_type": "code",
   "execution_count": null,
   "id": "c4d73f1b-39bf-44c2-b354-d95ca43e0884",
   "metadata": {},
   "outputs": [],
   "source": [
    "os.environ['ANTHROPIC_API_KEY'] = 'your-api-key'"
   ]
  },
  {
   "cell_type": "code",
   "execution_count": null,
   "id": "c7e20a11-3298-4b4d-9ed6-323b1456d094",
   "metadata": {},
   "outputs": [],
   "source": [
    "model = models[1] #sonnet 3.5"
   ]
  },
  {
   "cell_type": "code",
   "execution_count": null,
   "id": "bb45566b-d016-469d-810a-ffeac6fd4bec",
   "metadata": {},
   "outputs": [],
   "source": [
    "chat = Chat(model, sp=\"\"\"You are a helpful and concise assistant that will correct a diarization script.\"\"\")"
   ]
  },
  {
   "cell_type": "code",
   "execution_count": null,
   "id": "7939ffed-40d9-4ed8-a10f-198e430516ce",
   "metadata": {},
   "outputs": [],
   "source": [
    "def process_chunk(chunk, index, total_chunks):\n",
    "    global chat\n",
    "    if index == 0:\n",
    "        prompt = f'''In the speaker diarization transcript below, some words are potentially misplaced due to bleeding. As in one speaker is talking then immediately after a second speaker is talking, and the first words of the second speaker are attributed to the last words of the second speaker. I need you to read the meaning and context of the sentences and make your best guess about how the sentences should be re-distributed \n",
    "                  They may also be displaced in the following manner-- Two or more speakers speak, and the words are all attributed to one speaker, when actually 2 or three speakers spoke like this: speaker_1 \"talking\" speaker_2 \"talking\" speaker_1 \"talking\", but all the transcription captures is speaker_1 \"talking talking talking\" \n",
    "                  Please correct those words and move them to the right speaker. Directly show the corrected transcript without explaining what changes were made or why you made those changes. \n",
    "                  This is the first of {total_chunks} parts. Correct this chunk in isolation. Text to correct is indicated by this tag <text-to-correct></text-to-correct>\n",
    "                  Feel free to attempt to correct the speaker identified, for example if it says it is speaker_01, but you think it is speaker_02, correct that, also if you know the actual name of a character, replace the \"SPEAKER_01\" with it's actual character name\n",
    "                  <text-to-correct>{chunk}</text-to-correct>\n",
    "                '''\n",
    "    else:\n",
    "        if index % 2 == 0:\n",
    "            chat = Chat(model, sp=\"\"\"You are a helpful and concise assistant that will correct a diarization script.\"\"\")\n",
    "        prompt = f'''In the speaker diarization transcript below, some words are potentially misplaced.\n",
    "                  Please correct those words and move them to the right speaker. Directly show the corrected transcript without explaining what changes were made or why you made those changes.\n",
    "                  Continue diarization from previous {index} parts, maintaining consistent speaker attribution and context. The diarization transcript to correct is indicated by this tag <text-to-correct></text-to-correct>\n",
    "                  This is part {index + 1} of {total_chunks}. Correct the section indicated by <previous-corrected-text></previous-corrected-text> only, and directly show the corrected transcript without explaining what changes were made or why you made those changes.\n",
    "                  Feel free to attempt to correct the speaker identified, for example if it says it is speaker_01, but you think it is speaker_02, correct that, also if you know the actual name of a character, replace the \"SPEAKER_01\" with it's actual character name\n",
    "                  <text-to-correct>{chunk}</text-to-correct>\n",
    "                '''\n",
    "    \n",
    "    r = chat(prompt)\n",
    "    print(f\"Processed chunk {index + 1} of {total_chunks}\")\n",
    "    corrected_text = contents(r)\n",
    "    return corrected_text"
   ]
  },
  {
   "cell_type": "code",
   "execution_count": null,
   "id": "12f30cd3-74b3-4da2-948f-edf564d71d78",
   "metadata": {},
   "outputs": [],
   "source": [
    "def read_and_chunk(file_path, max_size=20000):\n",
    "    with open(file_path, 'r', encoding='utf-8') as file:\n",
    "        text = file.read()\n",
    "\n",
    "    lines = text.split('\\n')\n",
    "    chunks = []\n",
    "    current_chunk = \"\"\n",
    "\n",
    "    for line in lines:\n",
    "        if len(current_chunk + '\\n' + line) > max_size:\n",
    "            chunks.append(current_chunk)\n",
    "            current_chunk = line\n",
    "        else:\n",
    "            if current_chunk:\n",
    "                current_chunk += '\\n' + line\n",
    "            else:\n",
    "                current_chunk = line\n",
    "\n",
    "    if current_chunk:\n",
    "        chunks.append(current_chunk)\n",
    "    return chunks"
   ]
  },
  {
   "cell_type": "code",
   "execution_count": null,
   "id": "1f4cfc4f-e05c-4583-839d-40766fefa761",
   "metadata": {},
   "outputs": [],
   "source": [
    "def process_conversation(file_path):\n",
    "    chunks = read_and_chunk(file_path)\n",
    "    results = []\n",
    "    context = \"\"\n",
    "\n",
    "    for index, chunk in enumerate(chunks):\n",
    "        corrected_text = process_chunk(chunk, context, index, len(chunks))\n",
    "        results.append(corrected_text)\n",
    "        context = corrected_text\n",
    "\n",
    "    return '\\n'.join(results)"
   ]
  },
  {
   "cell_type": "code",
   "execution_count": null,
   "id": "899972a0-f90a-41ca-ac31-c8a6d022fc05",
   "metadata": {},
   "outputs": [],
   "source": [
    "def write_results_to_file(original_file_path, processed_text):\n",
    "    improved_file_path = f\"improved_{original_file_path}\"\n",
    "    with open(improved_file_path, 'w', encoding='utf-8') as file:\n",
    "        file.write(processed_text)\n",
    "    print(f\"Results written to {improved_file_path}\")"
   ]
  },
  {
   "cell_type": "code",
   "execution_count": null,
   "id": "680bd2c4-721b-4edf-9735-86187619a0ca",
   "metadata": {},
   "outputs": [],
   "source": [
    "print(\"Current working directory:\", os.getcwd())\n",
    "print(\"Files in current directory:\", os.listdir())"
   ]
  },
  {
   "cell_type": "code",
   "execution_count": null,
   "id": "b6ebed90-4489-4065-a81e-72c9ba40f08d",
   "metadata": {},
   "outputs": [],
   "source": [
    "conversation_path = 'diarization/transcription_output_A_Ch.txt'\n",
    "improved_path = 'transcription_output_A_Ch.txt'\n",
    "processed_text = process_conversation(conversation_path)\n",
    "write_results_to_file(improved_path, processed_text)"
   ]
  },
  {
   "cell_type": "code",
   "execution_count": null,
   "id": "a03d00d8-1f56-4544-9b6a-100fb1eb3923",
   "metadata": {},
   "outputs": [],
   "source": []
  }
 ],
 "metadata": {
  "kernelspec": {
   "display_name": "Python 3 (ipykernel)",
   "language": "python",
   "name": "python3"
  },
  "language_info": {
   "codemirror_mode": {
    "name": "ipython",
    "version": 3
   },
   "file_extension": ".py",
   "mimetype": "text/x-python",
   "name": "python",
   "nbconvert_exporter": "python",
   "pygments_lexer": "ipython3",
   "version": "3.10.14"
  }
 },
 "nbformat": 4,
 "nbformat_minor": 5
}
